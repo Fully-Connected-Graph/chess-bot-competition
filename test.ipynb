{
 "cells": [
  {
   "cell_type": "code",
   "execution_count": 2,
   "metadata": {},
   "outputs": [],
   "source": [
    "import chess\n",
    "import numpy as np\n",
    "import pandas as pd\n",
    "import matplotlib.pyplot as plt \n",
    "from tqdm import tqdm\n",
    "\n",
    "import cairosvg\n",
    "from PIL import Image\n",
    "from PIL import ImageFilter\n",
    "from io import BytesIO\n",
    "\n",
    "from itertools import count"
   ]
  },
  {
   "cell_type": "code",
   "execution_count": 3,
   "metadata": {},
   "outputs": [
    {
     "data": {
      "text/plain": [
       "'rnb'"
      ]
     },
     "execution_count": 3,
     "metadata": {},
     "output_type": "execute_result"
    }
   ],
   "source": [
    "df = pd.read_csv('results/2024-02-16_results.csv')\n",
    "\n",
    "hist = df.history.values.tolist()\n",
    "hist = [x.split(\"\\t\") for x in hist]\n",
    "hist = hist[np.random.randint(0, len(hist))]\n",
    "\n",
    "hist[0][:3]"
   ]
  },
  {
   "cell_type": "code",
   "execution_count": null,
   "metadata": {},
   "outputs": [],
   "source": [
    "w = 16\n",
    "h = 9\n",
    "n_frames = 100\n",
    "scales = np.linspace(0.12, 1, n_frames)\n",
    "\n",
    "fig, ax = plt.subplots(1, 1, figsize=(w, h))\n",
    "\n",
    "fig.set_facecolor('black')\n",
    "fig.subplots_adjust(left=0, right=1, top=1, bottom=0)\n",
    "\n",
    "for t, scale in tqdm(zip(count(), scales), total=n_frames):\n",
    "    ax.clear()\n",
    "    ax.axis('off')\n",
    "    ax.set_facecolor('black')\n",
    "\n",
    "    x0 = w/2 * (1 - scale)\n",
    "    x1 = w/2 * (1 + scale)\n",
    "    y0 = h/2 * (1 - scale)\n",
    "    y1 = h/2 * (1 + scale)\n",
    "\n",
    "    ax.set_xlim(x0, x1)\n",
    "    ax.set_ylim(y0, y1)\n",
    "\n",
    "    for i in range(w * h):\n",
    "        boundaries = [(i % w), (i % w + 1), (i // w), (i // w + 1)]\n",
    "\n",
    "        if boundaries[1] < x0 or boundaries[0] > x1 or boundaries[3] < y0 or boundaries[2] > y1:\n",
    "            continue\n",
    "\n",
    "        game = hist[i % len(hist)]\n",
    "        board_fen = game[t % len(game)]\n",
    "        board = chess.Board(board_fen)\n",
    "        svg = chess.svg.board(board=board)\n",
    "        img = Image.open(BytesIO(cairosvg.svg2png(bytestring=svg, )))\n",
    "\n",
    "        ax.imshow(img, aspect=\"equal\", extent=boundaries)\n",
    "\n",
    "    # ax.plot([x0, x1], [y0, y0], 'r')\n",
    "    # ax.plot([x0, x1], [y1, y1], 'r')\n",
    "    # ax.plot([x0, x0], [y0, y1], 'r')\n",
    "    # ax.plot([x1, x1], [y0, y1], 'r')\n",
    "    \n",
    "    plt.savefig(f'frames/frame_{t:04d}.png')"
   ]
  },
  {
   "cell_type": "code",
   "execution_count": 12,
   "metadata": {},
   "outputs": [
    {
     "name": "stderr",
     "output_type": "stream",
     "text": [
      "100%|██████████| 100/100 [00:54<00:00,  1.84it/s]\n"
     ]
    }
   ],
   "source": [
    "# for every frame, put the CBT.png image on top of the board\n",
    "\n",
    "new_dir = \"./new_frames\"\n",
    "\n",
    "imgs = [f'frames/frame_{t:04d}.png' for t in range(n_frames)]\n",
    "\n",
    "space = np.linspace(0, 1, n_frames)\n",
    "\n",
    "for t in tqdm(range(n_frames)):\n",
    "    img = Image.open(imgs[t])\n",
    "\n",
    "    # blur image\n",
    "    img = img.filter(ImageFilter.GaussianBlur(radius=space[t] * 2))\n",
    "\n",
    "    # darken image\n",
    "    img = img.point(lambda p: (- space[t] * 0.8 + 1) * p )\n",
    "\n",
    "    cbt = Image.open(\"CBT.png\")\n",
    "    img.paste(cbt, (0, 0, img.width, img.height), cbt)\n",
    "    img.save(f\"{new_dir}/frame_{t:04d}.png\")"
   ]
  },
  {
   "cell_type": "code",
   "execution_count": 13,
   "metadata": {},
   "outputs": [
    {
     "name": "stderr",
     "output_type": "stream",
     "text": [
      "/var/folders/w3/2rfcg8md39x8h72m0ssfy9n80000gn/T/ipykernel_41821/3831224420.py:10: DeprecationWarning: Starting with ImageIO v3 the behavior of this function will switch to that of iio.v3.imread. To keep the current behavior (and make this warning disappear) use `import imageio.v2 as imageio` or call `imageio.v2.imread` directly.\n",
      "  images.append(imageio.imread(f'new_frames/{filename}'))\n"
     ]
    }
   ],
   "source": [
    "# make a gif\n",
    "\n",
    "import imageio\n",
    "import os\n",
    "\n",
    "images = []\n",
    "frame_names = os.listdir('new_frames')\n",
    "frame_names.sort()\n",
    "for filename in frame_names:\n",
    "    images.append(imageio.imread(f'new_frames/{filename}'))\n",
    "\n",
    "imageio.mimsave('chess.gif', images, duration=3)"
   ]
  },
  {
   "cell_type": "code",
   "execution_count": null,
   "metadata": {},
   "outputs": [],
   "source": []
  }
 ],
 "metadata": {
  "kernelspec": {
   "display_name": ".venv",
   "language": "python",
   "name": "python3"
  },
  "language_info": {
   "codemirror_mode": {
    "name": "ipython",
    "version": 3
   },
   "file_extension": ".py",
   "mimetype": "text/x-python",
   "name": "python",
   "nbconvert_exporter": "python",
   "pygments_lexer": "ipython3",
   "version": "3.11.7"
  }
 },
 "nbformat": 4,
 "nbformat_minor": 2
}
