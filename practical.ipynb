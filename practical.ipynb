{
  "cells": [
    {
      "cell_type": "markdown",
      "metadata": {
        "colab_type": "text",
        "id": "view-in-github"
      },
      "source": [
        "<a href=\"https://colab.research.google.com/github/nomomon/chess-bot-competition/blob/main/practical.ipynb\" target=\"_parent\"><img src=\"https://colab.research.google.com/assets/colab-badge.svg\" alt=\"Open In Colab\"/></a>"
      ]
    },
    {
      "cell_type": "markdown",
      "metadata": {
        "id": "Fw7soNdkBsLb"
      },
      "source": [
        "# Cover Chess Bot Competition\n",
        "\n",
        "Welcome to the very first Cover Chess Bot competition."
      ]
    },
    {
      "cell_type": "markdown",
      "metadata": {
        "id": "PvATYVuiCKlx"
      },
      "source": [
        "## Setup\n",
        "\n",
        "Let's install the [`python-chess`](https://python-chess.readthedocs.io/en/latest/) library, it will be used for managing the chess board, as well as the competition. This library provides an extensive API of controlling the chess game.\n",
        "\n",
        "Visit their website for more documentation."
      ]
    },
    {
      "cell_type": "code",
      "execution_count": null,
      "metadata": {
        "id": "ImqWf7Ncf7OL"
      },
      "outputs": [],
      "source": [
        "%%capture\n",
        "!pip install python-chess"
      ]
    },
    {
      "cell_type": "code",
      "execution_count": null,
      "metadata": {
        "id": "_MNIAT6SGsZv"
      },
      "outputs": [],
      "source": [
        "import numpy as np\n",
        "import pandas as pd\n",
        "\n",
        "import chess"
      ]
    },
    {
      "cell_type": "markdown",
      "metadata": {
        "id": "WE1W3FstDV7x"
      },
      "source": [
        "## Introduction\n",
        "\n",
        "Try running the example bellow, which demonstrates how to make moves in this library."
      ]
    },
    {
      "cell_type": "code",
      "execution_count": null,
      "metadata": {
        "colab": {
          "base_uri": "https://localhost:8080/",
          "height": 412
        },
        "id": "lcETQnLTf9AO",
        "outputId": "7271803d-ce32-409a-acc6-a4b96780945e"
      },
      "outputs": [],
      "source": [
        "import chess\n",
        "\n",
        "# make a board (new game)\n",
        "board = chess.Board()\n",
        "\n",
        "# do a step (this is in `san` format)\n",
        "board.push_san(\"Nh3\")\n",
        "\n",
        "# visualise the board\n",
        "display(board)"
      ]
    },
    {
      "cell_type": "markdown",
      "metadata": {
        "id": "6h4wIa4JOI9n"
      },
      "source": [
        "## Setup"
      ]
    },
    {
      "cell_type": "markdown",
      "metadata": {
        "id": "GfSeaEhDLwv7"
      },
      "source": [
        "Throught the practical as well as in the competition we will be defining the bots using this class. It recieves a [`board_fen`](https://en.wikipedia.org/wiki/Forsyth%E2%80%93Edwards_Notation), which is a string represntation of a chess board."
      ]
    },
    {
      "cell_type": "code",
      "execution_count": null,
      "metadata": {
        "id": "XKwlrmaULwaQ"
      },
      "outputs": [],
      "source": [
        "from abc import ABC, abstractmethod\n",
        "\n",
        "\n",
        "class ChessBotClass(ABC):\n",
        "    @abstractmethod\n",
        "    def __call__(self, board_fen: str) -> chess.Move:\n",
        "        pass"
      ]
    },
    {
      "cell_type": "markdown",
      "metadata": {
        "id": "J0VUipkSPcIi"
      },
      "source": [
        "Also we will have a `Judge`, which will manage the competition."
      ]
    },
    {
      "cell_type": "code",
      "execution_count": null,
      "metadata": {
        "id": "HsEXch-8Pnyn"
      },
      "outputs": [],
      "source": [
        "from IPython.display import clear_output\n",
        "from itertools import count\n",
        "import time\n",
        "\n",
        "\n",
        "\n",
        "class Judge():\n",
        "    def __init__(self, player_1, player_2, time_limit=300):\n",
        "        self.player_1 = player_1\n",
        "        self.player_2 = player_2\n",
        "        self.time_limit = time_limit\n",
        "\n",
        "    def run_game(self, initial_board_fen:str = None):\n",
        "        board = chess.Board()\n",
        "\n",
        "        player_times = [0, 0]\n",
        "\n",
        "        for i in count(0, 1):\n",
        "            if board.is_checkmate():\n",
        "                print(\"GAME OVER\")\n",
        "                print(\"Winner is bot\", i%2 + 1, sep=\"_\")\n",
        "                break\n",
        "            if i > 100:\n",
        "                print(\"GAME OVER\")\n",
        "                print(\"Exceeded move limits, it's a tie\")\n",
        "                break\n",
        "\n",
        "            board_fen = board.fen()\n",
        "\n",
        "            start = time.time()\n",
        "            if i % 2 == 0:\n",
        "                move = self.player_1(board_fen)\n",
        "            else:\n",
        "                move = self.player_2(board_fen)\n",
        "            end = time.time()\n",
        "\n",
        "            player_times[i%2] += end - start\n",
        "\n",
        "            if player_times[i%2] > self.time_limit:\n",
        "                print(\"GAME OVER\")\n",
        "                print(\"Time limit exceeded, winner is bot\", i%2+1, sep=\"_\")\n",
        "\n",
        "            if not board.is_legal(move):\n",
        "                raise ValueError(\"Illegal board move. The bot it hallucinating...\")\n",
        "\n",
        "            board.push(move)\n",
        "\n",
        "            clear_output(wait=True)\n",
        "            display(board)\n",
        "\n",
        "            # slow down the bots so that we can see them\n",
        "            time.sleep(.25)\n",
        "        print(\"Times used:\", player_times)"
      ]
    },
    {
      "cell_type": "markdown",
      "metadata": {
        "id": "BM3FMi6QOKzk"
      },
      "source": [
        "## Bots"
      ]
    },
    {
      "cell_type": "markdown",
      "metadata": {
        "id": "BhX1kmwwFW8J"
      },
      "source": [
        "### Random Bots\n",
        "\n",
        "Let's make a sample bot, which recives the board state (in fen format) and does a random legal move."
      ]
    },
    {
      "cell_type": "code",
      "execution_count": null,
      "metadata": {
        "id": "8jv7216YgJmw"
      },
      "outputs": [],
      "source": [
        "import random\n",
        "\n",
        "class RandomBot(ChessBotClass):\n",
        "    def __call__(self, board_fen):\n",
        "        board = chess.Board(board_fen)\n",
        "\n",
        "        moves = list(board.legal_moves)\n",
        "\n",
        "        idx = int(random.random() * len(moves))\n",
        "\n",
        "        move = moves[idx]\n",
        "\n",
        "        return move"
      ]
    },
    {
      "cell_type": "markdown",
      "metadata": {
        "id": "92dap9yZJTya"
      },
      "source": [
        "Now, let's initialize two random bots and run a simple tournament between them :D"
      ]
    },
    {
      "cell_type": "code",
      "execution_count": null,
      "metadata": {
        "colab": {
          "base_uri": "https://localhost:8080/",
          "height": 464
        },
        "id": "rifnDQMugMu9",
        "outputId": "d38714fe-d57d-464e-db0c-78239b31aac9"
      },
      "outputs": [],
      "source": [
        "# initialize the bots\n",
        "bot_1 = RandomBot()\n",
        "bot_2 = RandomBot()\n",
        "\n",
        "# run tournament\n",
        "judge = Judge(bot_1, bot_2)\n",
        "judge.run_game()"
      ]
    },
    {
      "cell_type": "markdown",
      "metadata": {
        "id": "nn3ZoRSlJ0jO"
      },
      "source": [
        "### MiniMax"
      ]
    },
    {
      "cell_type": "code",
      "execution_count": null,
      "metadata": {
        "id": "YkxfFGqOIlzt"
      },
      "outputs": [],
      "source": [
        "INF = 1e10\n",
        "\n",
        "class MiniMaxBot(ChessBotClass):\n",
        "    def __init__(self, max_depth: int) -> None:\n",
        "        self._max_depth = max_depth\n",
        "\n",
        "    def evaluate_board(self, board, turn):\n",
        "        return 0\n",
        "\n",
        "    def minimax(self, depth: int,\n",
        "                board: chess.Board,\n",
        "                alpha: float, beta: float,\n",
        "                maximizing: bool) -> float:\n",
        "\n",
        "        if depth == 0 or board.is_game_over():\n",
        "            return self.evaluate_board(board, board.turn) * -1**(not maximizing)\n",
        "        if maximizing:\n",
        "            value = -INF\n",
        "            for move in board.legal_moves:\n",
        "                board.push(move) #also switches turn\n",
        "                value = max(value, self.minimax(depth - 1,\n",
        "                                                board, alpha,\n",
        "                                                beta, not maximizing))\n",
        "                board.pop()\n",
        "                if value > beta:\n",
        "                    break\n",
        "                alpha = max(alpha, value)\n",
        "        else:\n",
        "            value = INF\n",
        "            for move in board.legal_moves:\n",
        "                board.push(move)\n",
        "                value = min(value, self.minimax(depth - 1,\n",
        "                                           board, alpha,\n",
        "                                           beta, not maximizing))\n",
        "                board.pop()\n",
        "                if value < alpha:\n",
        "                    break\n",
        "                beta = min(beta, value)\n",
        "        return value\n",
        "\n",
        "    def __call__(self, board_fen: str) -> chess.Move:\n",
        "        board = chess.Board(board_fen)\n",
        "\n",
        "        best_move = None\n",
        "        best_eval = -INF\n",
        "        for move in board.legal_moves:\n",
        "            board.push(move)\n",
        "            value = self.minimax(self._max_depth, board, -INF, INF, True)\n",
        "            if value > best_eval:\n",
        "                best_eval = value\n",
        "                best_move = move\n",
        "            board.pop()\n",
        "        return best_move"
      ]
    },
    {
      "cell_type": "code",
      "execution_count": null,
      "metadata": {
        "colab": {
          "base_uri": "https://localhost:8080/",
          "height": 751
        },
        "id": "lar5u5fMWi9-",
        "outputId": "cc78743b-c79d-4a52-85cc-80bb23abbd57"
      },
      "outputs": [],
      "source": [
        "# initialize the bots\n",
        "bot_1 = MiniMaxBot(3)\n",
        "bot_2 = RandomBot()\n",
        "\n",
        "# run tournament\n",
        "judge = Judge(bot_1, bot_2)\n",
        "judge.run_game()"
      ]
    },
    {
      "cell_type": "markdown",
      "metadata": {
        "id": "e0AsXuTzlOrA"
      },
      "source": [
        "### Piece Number Bot\n",
        "\n"
      ]
    },
    {
      "cell_type": "code",
      "execution_count": null,
      "metadata": {
        "id": "nO0uCkW5pZFs"
      },
      "outputs": [],
      "source": [
        "class NumPieceBot(MiniMaxBot):\n",
        "    def evaluate_board(self, board: chess.Board, color: chess.Color) -> float:\n",
        "        return sum([piece.color == color for piece in board.piece_map().values()])"
      ]
    },
    {
      "cell_type": "code",
      "execution_count": null,
      "metadata": {
        "colab": {
          "base_uri": "https://localhost:8080/",
          "height": 464
        },
        "id": "vCXMmLkV0y65",
        "outputId": "274f1e0d-fca1-43af-d3f3-dd67c3426634"
      },
      "outputs": [],
      "source": [
        "# initialize the bots\n",
        "bot_1 = MiniMaxBot(2)\n",
        "bot_2 = NumPieceBot(2)\n",
        "\n",
        "# run tournament\n",
        "judge = Judge(bot_1, bot_2)\n",
        "judge.run_game()"
      ]
    },
    {
      "cell_type": "markdown",
      "metadata": {
        "id": "jBKCSRAmpacs"
      },
      "source": [
        "### Piece Value Bot"
      ]
    },
    {
      "cell_type": "code",
      "execution_count": null,
      "metadata": {
        "id": "njhiNwAhWikt"
      },
      "outputs": [],
      "source": [
        "DEFAULT_PIECE_VALUES = {chess.PAWN : 1, chess.ROOK : 5, chess.KNIGHT : 3, chess.BISHOP : 3, chess.KING : 100, chess.QUEEN : 9}\n",
        "\n",
        "class PieceValueBot(MiniMaxBot):\n",
        "    def __init__(self,\n",
        "            max_depth: int,\n",
        "            piece_values: dict = DEFAULT_PIECE_VALUES\n",
        "        ) -> None:\n",
        "        super().__init__(max_depth)\n",
        "        self.piece_values = piece_values\n",
        "\n",
        "    def evaluate_board(self, board: chess.Board, color: chess.Color) -> float:\n",
        "        return sum([self.piece_values[piece.piece_type] for piece in board.piece_map().values() if piece.color == color])"
      ]
    },
    {
      "cell_type": "code",
      "execution_count": null,
      "metadata": {
        "colab": {
          "base_uri": "https://localhost:8080/",
          "height": 709
        },
        "id": "3sRqdgGr01c7",
        "outputId": "62c351fd-ea3c-4111-98c8-9353517c2665"
      },
      "outputs": [],
      "source": [
        "# initialize the bots\n",
        "bot_1 = NumPieceBot(1)\n",
        "bot_2 = PieceValueBot(2)\n",
        "\n",
        "# run tournament\n",
        "judge = Judge(bot_1, bot_2)\n",
        "judge.run_game()"
      ]
    },
    {
      "cell_type": "markdown",
      "metadata": {
        "id": "7x8bE15S1Ug3"
      },
      "source": [
        "# What's next?\n",
        "\n",
        "- Develop your own bots\n",
        "- Research on different bots in chess\n",
        "    - See a recent chess bot competition for inspiration\n",
        "    - https://www.youtube.com/watch?v=Ne40a5LkK6A\n",
        "- Submit your own bot and see who's bot is the best!\n",
        "    - Sign in through University account\n",
        "    - https://forms.gle/jszsX8SvETQWobkP6\n",
        "- The competition will be ran everyday at midnight and the results will be updated\n",
        "    - Starting `Fri 9 Feb 2024 00:00`\n",
        "    - See them [here](https://fully-connected-graph.github.io/chess-bot-competition/)"
      ]
    },
    {
      "cell_type": "code",
      "execution_count": null,
      "metadata": {
        "id": "hqC4NItj3deB"
      },
      "outputs": [],
      "source": []
    }
  ],
  "metadata": {
    "colab": {
      "authorship_tag": "ABX9TyMPncX8gYf1EQvmYm+riOIw",
      "include_colab_link": true,
      "provenance": []
    },
    "kernelspec": {
      "display_name": "Python 3",
      "name": "python3"
    },
    "language_info": {
      "name": "python",
      "version": "3.11.7"
    }
  },
  "nbformat": 4,
  "nbformat_minor": 0
}
